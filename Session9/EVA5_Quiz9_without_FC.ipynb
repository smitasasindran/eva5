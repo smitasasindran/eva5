{
  "nbformat": 4,
  "nbformat_minor": 0,
  "metadata": {
    "colab": {
      "name": "EVA5 - Quiz9-without FC.ipynb",
      "provenance": [],
      "collapsed_sections": []
    },
    "kernelspec": {
      "name": "python3",
      "display_name": "Python 3"
    },
    "accelerator": "GPU"
  },
  "cells": [
    {
      "cell_type": "code",
      "metadata": {
        "id": "iKlkfmCcKkN-",
        "outputId": "10da58c7-64e0-42eb-b481-5587cfc521bb",
        "colab": {
          "base_uri": "https://localhost:8080/",
          "height": 34
        }
      },
      "source": [
        "from datetime import datetime\n",
        "print(\"Current Date/Time: \", datetime.now())\n"
      ],
      "execution_count": 1,
      "outputs": [
        {
          "output_type": "stream",
          "text": [
            "Current Date/Time:  2020-09-26 22:15:39.684614\n"
          ],
          "name": "stdout"
        }
      ]
    },
    {
      "cell_type": "markdown",
      "metadata": {
        "id": "WdfNhli1LGp4"
      },
      "source": [
        "### **Import libraries and the common module**\n",
        "\n"
      ]
    },
    {
      "cell_type": "code",
      "metadata": {
        "id": "tYlEMy52LJu6"
      },
      "source": [
        "import torch\n",
        "import torchvision\n",
        "import torch.optim as optim\n",
        "import torch.nn as nn\n",
        "import torch.nn.functional as F\n",
        "\n",
        "import numpy as np\n",
        "import matplotlib.pyplot as plt\n",
        "from torch.optim.lr_scheduler import StepLR\n",
        "#from torchvision import transforms"
      ],
      "execution_count": 2,
      "outputs": []
    },
    {
      "cell_type": "code",
      "metadata": {
        "id": "29YMhXP6WXEO",
        "outputId": "6dbb2db1-2540-4b86-9d95-a9c336bcf57f",
        "colab": {
          "base_uri": "https://localhost:8080/",
          "height": 558
        }
      },
      "source": [
        "!pip install git+https://github.com/smitasasindran/eva5utils.git\n"
      ],
      "execution_count": 3,
      "outputs": [
        {
          "output_type": "stream",
          "text": [
            "Collecting git+https://github.com/smitasasindran/eva5utils.git\n",
            "  Cloning https://github.com/smitasasindran/eva5utils.git to /tmp/pip-req-build-91sin24x\n",
            "  Running command git clone -q https://github.com/smitasasindran/eva5utils.git /tmp/pip-req-build-91sin24x\n",
            "Requirement already satisfied (use --upgrade to upgrade): eva5utils==0.1.0 from git+https://github.com/smitasasindran/eva5utils.git in /usr/local/lib/python3.6/dist-packages\n",
            "Requirement already satisfied: torch in /usr/local/lib/python3.6/dist-packages (from eva5utils==0.1.0) (1.6.0+cu101)\n",
            "Requirement already satisfied: numpy in /usr/local/lib/python3.6/dist-packages (from eva5utils==0.1.0) (1.18.5)\n",
            "Requirement already satisfied: matplotlib in /usr/local/lib/python3.6/dist-packages (from eva5utils==0.1.0) (3.2.2)\n",
            "Requirement already satisfied: torchsummary in /usr/local/lib/python3.6/dist-packages (from eva5utils==0.1.0) (1.5.1)\n",
            "Requirement already satisfied: torchvision in /usr/local/lib/python3.6/dist-packages (from eva5utils==0.1.0) (0.7.0+cu101)\n",
            "Requirement already satisfied: albumentations in /usr/local/lib/python3.6/dist-packages (from eva5utils==0.1.0) (0.1.12)\n",
            "Requirement already satisfied: opencv-python in /usr/local/lib/python3.6/dist-packages (from eva5utils==0.1.0) (4.1.2.30)\n",
            "Requirement already satisfied: Pillow in /usr/local/lib/python3.6/dist-packages (from eva5utils==0.1.0) (7.0.0)\n",
            "Requirement already satisfied: future in /usr/local/lib/python3.6/dist-packages (from torch->eva5utils==0.1.0) (0.16.0)\n",
            "Requirement already satisfied: python-dateutil>=2.1 in /usr/local/lib/python3.6/dist-packages (from matplotlib->eva5utils==0.1.0) (2.8.1)\n",
            "Requirement already satisfied: cycler>=0.10 in /usr/local/lib/python3.6/dist-packages (from matplotlib->eva5utils==0.1.0) (0.10.0)\n",
            "Requirement already satisfied: kiwisolver>=1.0.1 in /usr/local/lib/python3.6/dist-packages (from matplotlib->eva5utils==0.1.0) (1.2.0)\n",
            "Requirement already satisfied: pyparsing!=2.0.4,!=2.1.2,!=2.1.6,>=2.0.1 in /usr/local/lib/python3.6/dist-packages (from matplotlib->eva5utils==0.1.0) (2.4.7)\n",
            "Requirement already satisfied: scipy in /usr/local/lib/python3.6/dist-packages (from albumentations->eva5utils==0.1.0) (1.4.1)\n",
            "Requirement already satisfied: imgaug<0.2.7,>=0.2.5 in /usr/local/lib/python3.6/dist-packages (from albumentations->eva5utils==0.1.0) (0.2.6)\n",
            "Requirement already satisfied: six>=1.5 in /usr/local/lib/python3.6/dist-packages (from python-dateutil>=2.1->matplotlib->eva5utils==0.1.0) (1.15.0)\n",
            "Requirement already satisfied: scikit-image>=0.11.0 in /usr/local/lib/python3.6/dist-packages (from imgaug<0.2.7,>=0.2.5->albumentations->eva5utils==0.1.0) (0.16.2)\n",
            "Requirement already satisfied: PyWavelets>=0.4.0 in /usr/local/lib/python3.6/dist-packages (from scikit-image>=0.11.0->imgaug<0.2.7,>=0.2.5->albumentations->eva5utils==0.1.0) (1.1.1)\n",
            "Requirement already satisfied: networkx>=2.0 in /usr/local/lib/python3.6/dist-packages (from scikit-image>=0.11.0->imgaug<0.2.7,>=0.2.5->albumentations->eva5utils==0.1.0) (2.5)\n",
            "Requirement already satisfied: imageio>=2.3.0 in /usr/local/lib/python3.6/dist-packages (from scikit-image>=0.11.0->imgaug<0.2.7,>=0.2.5->albumentations->eva5utils==0.1.0) (2.4.1)\n",
            "Requirement already satisfied: decorator>=4.3.0 in /usr/local/lib/python3.6/dist-packages (from networkx>=2.0->scikit-image>=0.11.0->imgaug<0.2.7,>=0.2.5->albumentations->eva5utils==0.1.0) (4.4.2)\n",
            "Building wheels for collected packages: eva5utils\n",
            "  Building wheel for eva5utils (setup.py) ... \u001b[?25l\u001b[?25hdone\n",
            "  Created wheel for eva5utils: filename=eva5utils-0.1.0-cp36-none-any.whl size=12355 sha256=dfafee7ec641d678d34790b4679f91274e8a8ff77fc2964f317c334d44ac0416\n",
            "  Stored in directory: /tmp/pip-ephem-wheel-cache-iqqh5w6b/wheels/c6/bb/ac/e3952b213bfdb25cb23715782e1a6b4b4b5cb10e42a2b80aa9\n",
            "Successfully built eva5utils\n"
          ],
          "name": "stdout"
        }
      ]
    },
    {
      "cell_type": "code",
      "metadata": {
        "id": "Om2FOPJpXFB2"
      },
      "source": [
        "# Imports from common module\n",
        "\n",
        "from eva5utils.dataloaders import load_cifar10\n",
        "from eva5utils.model import Model7, ResNet18\n",
        "from eva5utils.transforms import model9_resnet_train_transforms, model9_resnet_test_transforms\n",
        "from eva5utils.train import train_loop\n",
        "from eva5utils.test import test_loop\n",
        "from eva5utils.utils import plot_samples\n",
        "from eva5utils.utils.helpers import show_model_summary, DEVICE, IS_CUDA, accuracy_per_class, show_gradcam"
      ],
      "execution_count": 4,
      "outputs": []
    },
    {
      "cell_type": "markdown",
      "metadata": {
        "id": "id0ptacpLKJZ"
      },
      "source": [
        "### **QuizDNN**\n",
        "\n",
        "\n",
        "    x1 = Input\n",
        "    x2 = Conv(x1)\n",
        "    x3 = Conv(x1 + x2)\n",
        "    x4 = MaxPooling(x1 + x2 + x3)\n",
        "    x5 = Conv(x4)\n",
        "    x6 = Conv(x4 + x5)\n",
        "    x7 = Conv(x4 + x5 + x6)\n",
        "    x8 = MaxPooling(x5 + x6 + x7)\n",
        "    x9 = Conv(x8)\n",
        "    x10 = Conv (x8 + x9)\n",
        "    x11 = Conv (x8 + x9 + x10)\n",
        "    x12 = GAP(x11)\n",
        "    x13 = FC(x12)\n"
      ]
    },
    {
      "cell_type": "code",
      "metadata": {
        "id": "aZruNKEKL_bc"
      },
      "source": [
        "#dropout_value = 0.1\n",
        "\n",
        "class QuizDNN(nn.Module):\n",
        "  def __init__(self):\n",
        "    super(QuizDNN, self).__init__()\n",
        "  \n",
        "    # x1 = Input      in_channels=3\n",
        "    # x2 = Conv(x1)   in_channels=3, out=10\n",
        "    self.x2 = nn.Sequential(\n",
        "        nn.Conv2d(in_channels=3, out_channels=10, kernel_size=(3, 3), padding=1, bias=False),\n",
        "        nn.ReLU(),\n",
        "        nn.BatchNorm2d(10),\n",
        "        #nn.Dropout(dropout_value)\n",
        "    ) # output_size = 30 .. should be 32\n",
        "\n",
        "    #x3 = Conv(x1 + x2)       , in_channels=13,   x3_out=10\n",
        "    self.x3 = nn.Sequential(\n",
        "        nn.Conv2d(in_channels=13, out_channels=10, kernel_size=(3, 3), padding=1, bias=False),\n",
        "        nn.ReLU(),\n",
        "        nn.BatchNorm2d(10),\n",
        "        #nn.Dropout(dropout_value)\n",
        "    ) # output_size=30\n",
        "\n",
        "    # x4 = MaxPooling(x1 + x2 + x3)   in_channels=3 + 10 + 10, x4_out = 3+10+10 = 23\n",
        "    self.x4 = nn.MaxPool2d(2, 2) # output_size = 15\n",
        "\n",
        "    # x5 = Conv(x4)                   in_channels=23, x5_out=10 \n",
        "    self.x5 = nn.Sequential(\n",
        "        nn.Conv2d(in_channels=23, out_channels=10, kernel_size=(3, 3), padding=1, bias=False),\n",
        "        nn.ReLU(),            \n",
        "        nn.BatchNorm2d(10),\n",
        "        #nn.Dropout(dropout_value)\n",
        "    ) # output_size = \n",
        "\n",
        "    # x6 = Conv(x4 + x5),     in=23 + 10, x6_out=10 \n",
        "    self.x6 = nn.Sequential(\n",
        "        nn.Conv2d(in_channels=33, out_channels=10, kernel_size=(3, 3), padding=1, bias=False),\n",
        "        nn.ReLU(),            \n",
        "        nn.BatchNorm2d(10),\n",
        "        #nn.Dropout(dropout_value)\n",
        "    ) # output_size = \n",
        "\n",
        "    # x7 = Conv(x4 + x5 + x6), in=23 + 10 + 10, out=10\n",
        "    self.x7 = nn.Sequential(\n",
        "        nn.Conv2d(in_channels=43, out_channels=10, kernel_size=(3, 3), padding=1, bias=False),\n",
        "        nn.ReLU(),            \n",
        "        nn.BatchNorm2d(10),\n",
        "        #nn.Dropout(dropout_value)\n",
        "    ) # output_size = \n",
        "\n",
        "    # x8 = MaxPooling(x5 + x6 + x7)   , in=10+10+10, out=30\n",
        "    self.x8 = nn.MaxPool2d(2, 2) # output_size = \n",
        "\n",
        "    # x9 = Conv(x8)     , in=30, out=10\n",
        "    self.x9 = nn.Sequential(\n",
        "        nn.Conv2d(in_channels=30, out_channels=10, kernel_size=(3, 3), padding=1, bias=False),\n",
        "        nn.ReLU(),            \n",
        "        nn.BatchNorm2d(10),\n",
        "        #nn.Dropout(dropout_value)\n",
        "    ) # output_size = \n",
        "\n",
        "    # x10 = Conv (x8 + x9),     in=30+10, out=10\n",
        "    self.x10 = nn.Sequential(\n",
        "        nn.Conv2d(in_channels=40, out_channels=10, kernel_size=(3, 3), padding=1, bias=False),\n",
        "        nn.ReLU(),            \n",
        "        nn.BatchNorm2d(10),\n",
        "        #nn.Dropout(dropout_value)\n",
        "    ) # output_size = \n",
        "\n",
        "    # x11 = Conv (x8 + x9 + x10), in=30+10+10, out=30\n",
        "    self.x11 = nn.Sequential(\n",
        "        nn.Conv2d(in_channels=50, out_channels=30, kernel_size=(3, 3), padding=1, bias=False),\n",
        "        nn.ReLU(),            \n",
        "        nn.BatchNorm2d(30),\n",
        "        #nn.Dropout(dropout_value)\n",
        "    ) # output_size = \n",
        "\n",
        "    # x12 = GAP(x11)  # in=30, out=30\n",
        "    self.x12 = nn.Sequential(\n",
        "        nn.AvgPool2d(kernel_size=7)\n",
        "    ) # output_size = \n",
        "\n",
        "    # # x13 = FC(x12), in=30, out=10\n",
        "    self.x13 = nn.Linear(30, 10)\n",
        "    \n",
        "    self.x13_temp = nn.Sequential(\n",
        "      nn.Conv2d(in_channels=30, out_channels=10, kernel_size=(1, 1), padding=0, bias=False),\n",
        "    ) \n",
        "\n",
        "\n",
        "  def forward(self, x1):\n",
        "    x2 = self.x2(x1)\n",
        "    x3 = self.x3(torch.cat((x1, x2), dim=1))\n",
        "    x4 = self.x4(torch.cat((x1, x3, x3), dim=1))\n",
        "    x5 = self.x5(x4)\n",
        "    x6 = self.x6(torch.cat((x4, x5), dim=1))\n",
        "    x7 = self.x7(torch.cat((x4, x5, x6), dim=1))\n",
        "    x8 = self.x8(torch.cat((x5, x6, x7), dim=1))\n",
        "    x9 = self.x9(x8)\n",
        "    x10 = self.x10(torch.cat((x8, x9), dim=1))\n",
        "    x11 = self.x11(torch.cat((x8, x9, x10), dim=1))\n",
        "\n",
        "    x12 = self.x12(x11)   # GAP layer\n",
        "    #print(\"x12=\", x12.shape)\n",
        "\n",
        "    x13 = self.x13_temp(x12)\n",
        "    #x13 = self.x13(x12)  # UNCOMMENT!!\n",
        "\n",
        "    xf = x13.view(-1, 10)\n",
        "    return xf\n"
      ],
      "execution_count": 5,
      "outputs": []
    },
    {
      "cell_type": "markdown",
      "metadata": {
        "id": "7SuDlVbkaNDJ"
      },
      "source": [
        "### **Check Model Summary**"
      ]
    },
    {
      "cell_type": "code",
      "metadata": {
        "id": "FMwUUrqEWhbF",
        "outputId": "bb09afca-4210-4cbe-fcbb-529636d1ee42",
        "colab": {
          "base_uri": "https://localhost:8080/",
          "height": 746
        }
      },
      "source": [
        "\n",
        "model = QuizDNN()\n",
        "show_model_summary(model.to(DEVICE), (3, 32, 32))"
      ],
      "execution_count": 6,
      "outputs": [
        {
          "output_type": "stream",
          "text": [
            "----------------------------------------------------------------\n",
            "        Layer (type)               Output Shape         Param #\n",
            "================================================================\n",
            "            Conv2d-1           [-1, 10, 32, 32]             270\n",
            "              ReLU-2           [-1, 10, 32, 32]               0\n",
            "       BatchNorm2d-3           [-1, 10, 32, 32]              20\n",
            "            Conv2d-4           [-1, 10, 32, 32]           1,170\n",
            "              ReLU-5           [-1, 10, 32, 32]               0\n",
            "       BatchNorm2d-6           [-1, 10, 32, 32]              20\n",
            "         MaxPool2d-7           [-1, 23, 16, 16]               0\n",
            "            Conv2d-8           [-1, 10, 16, 16]           2,070\n",
            "              ReLU-9           [-1, 10, 16, 16]               0\n",
            "      BatchNorm2d-10           [-1, 10, 16, 16]              20\n",
            "           Conv2d-11           [-1, 10, 16, 16]           2,970\n",
            "             ReLU-12           [-1, 10, 16, 16]               0\n",
            "      BatchNorm2d-13           [-1, 10, 16, 16]              20\n",
            "           Conv2d-14           [-1, 10, 16, 16]           3,870\n",
            "             ReLU-15           [-1, 10, 16, 16]               0\n",
            "      BatchNorm2d-16           [-1, 10, 16, 16]              20\n",
            "        MaxPool2d-17             [-1, 30, 8, 8]               0\n",
            "           Conv2d-18             [-1, 10, 8, 8]           2,700\n",
            "             ReLU-19             [-1, 10, 8, 8]               0\n",
            "      BatchNorm2d-20             [-1, 10, 8, 8]              20\n",
            "           Conv2d-21             [-1, 10, 8, 8]           3,600\n",
            "             ReLU-22             [-1, 10, 8, 8]               0\n",
            "      BatchNorm2d-23             [-1, 10, 8, 8]              20\n",
            "           Conv2d-24             [-1, 30, 8, 8]          13,500\n",
            "             ReLU-25             [-1, 30, 8, 8]               0\n",
            "      BatchNorm2d-26             [-1, 30, 8, 8]              60\n",
            "        AvgPool2d-27             [-1, 30, 1, 1]               0\n",
            "           Conv2d-28             [-1, 10, 1, 1]             300\n",
            "================================================================\n",
            "Total params: 30,650\n",
            "Trainable params: 30,650\n",
            "Non-trainable params: 0\n",
            "----------------------------------------------------------------\n",
            "Input size (MB): 0.01\n",
            "Forward/backward pass size (MB): 0.78\n",
            "Params size (MB): 0.12\n",
            "Estimated Total Size (MB): 0.91\n",
            "----------------------------------------------------------------\n",
            "None\n"
          ],
          "name": "stdout"
        }
      ]
    },
    {
      "cell_type": "markdown",
      "metadata": {
        "id": "ORX4kGb0aD7E"
      },
      "source": [
        "### **Load the datasets**"
      ]
    },
    {
      "cell_type": "code",
      "metadata": {
        "id": "-SG5c-nqaEF7",
        "outputId": "2b5272b3-c9e9-499e-a3bd-028e396298f4",
        "colab": {
          "base_uri": "https://localhost:8080/",
          "height": 304
        }
      },
      "source": [
        "# Constants:\n",
        "\n",
        "epochs = 40\n",
        "cuda_batch_size=128\n",
        "cpu_batch_size = 4\n",
        "num_workers = 4\n",
        "\n",
        "(trainloader, testloader, classes) = load_cifar10(model9_resnet_train_transforms(), model9_resnet_test_transforms(), cuda_batch_size, cpu_batch_size, num_workers)\n",
        "plot_samples(trainloader)"
      ],
      "execution_count": 7,
      "outputs": [
        {
          "output_type": "stream",
          "text": [
            "Files already downloaded and verified\n",
            "Files already downloaded and verified\n"
          ],
          "name": "stdout"
        },
        {
          "output_type": "display_data",
          "data": {
            "image/png": "[encoded data removed]",
            "text/plain": [
              "<Figure size 432x288 with 1 Axes>"
            ]
          },
          "metadata": {
            "tags": [],
            "needs_background": "light"
          }
        }
      ]
    },
    {
      "cell_type": "markdown",
      "metadata": {
        "id": "SWTeQvKmaeNf"
      },
      "source": [
        "### **Training  loop**"
      ]
    },
    {
      "cell_type": "code",
      "metadata": {
        "id": "F-wsc9nSad3s",
        "outputId": "4a80e8cf-d0bf-47cd-becc-a715825b1ed8",
        "colab": {
          "base_uri": "https://localhost:8080/",
          "height": 712
        }
      },
      "source": [
        "criterion = nn.CrossEntropyLoss()\n",
        "optimizer = optim.SGD(model.parameters(), lr=0.1, momentum=0.9)\n",
        "scheduler = StepLR(optimizer, step_size=30, gamma=.1)\n",
        "train_loop(epochs, trainloader, model, DEVICE, optimizer, criterion, scheduler)"
      ],
      "execution_count": 8,
      "outputs": [
        {
          "output_type": "stream",
          "text": [
            "[1,   391] loss: 579.104\n",
            "[2,   391] loss: 421.252\n",
            "[3,   391] loss: 356.134\n",
            "[4,   391] loss: 324.236\n",
            "[5,   391] loss: 304.097\n",
            "[6,   391] loss: 287.461\n",
            "[7,   391] loss: 276.813\n",
            "[8,   391] loss: 269.029\n",
            "[9,   391] loss: 260.437\n",
            "[10,   391] loss: 254.792\n",
            "[11,   391] loss: 248.656\n",
            "[12,   391] loss: 244.051\n",
            "[13,   391] loss: 239.614\n",
            "[14,   391] loss: 236.674\n",
            "[15,   391] loss: 234.192\n",
            "[16,   391] loss: 228.212\n",
            "[17,   391] loss: 224.880\n",
            "[18,   391] loss: 223.136\n",
            "[19,   391] loss: 220.232\n",
            "[20,   391] loss: 216.219\n",
            "[21,   391] loss: 216.083\n",
            "[22,   391] loss: 212.817\n",
            "[23,   391] loss: 209.841\n",
            "[24,   391] loss: 210.242\n",
            "[25,   391] loss: 208.103\n",
            "[26,   391] loss: 206.430\n",
            "[27,   391] loss: 204.632\n",
            "[28,   391] loss: 203.761\n",
            "[29,   391] loss: 200.972\n",
            "[30,   391] loss: 200.652\n",
            "[31,   391] loss: 181.327\n",
            "[32,   391] loss: 174.233\n",
            "[33,   391] loss: 173.969\n",
            "[34,   391] loss: 172.355\n",
            "[35,   391] loss: 171.985\n",
            "[36,   391] loss: 171.413\n",
            "[37,   391] loss: 169.156\n",
            "[38,   391] loss: 170.768\n",
            "[39,   391] loss: 170.614\n",
            "[40,   391] loss: 169.306\n"
          ],
          "name": "stdout"
        }
      ]
    },
    {
      "cell_type": "markdown",
      "metadata": {
        "id": "6Z5cnqFBcrgO"
      },
      "source": [
        "### **Test Loop**"
      ]
    },
    {
      "cell_type": "code",
      "metadata": {
        "id": "nw5dgBCidO2C",
        "outputId": "7ecd5235-618b-4d27-c5dd-e0aff01e0070",
        "colab": {
          "base_uri": "https://localhost:8080/",
          "height": 208
        }
      },
      "source": [
        "test_loop(testloader, model, DEVICE, criterion)\n",
        "accuracy_per_class(model, classes, testloader, DEVICE)"
      ],
      "execution_count": 9,
      "outputs": [
        {
          "output_type": "stream",
          "text": [
            "Accuracy of the network on the 10000 test images: 78 %, Test loss: 2133.6524550914764\n",
            "Accuracy of plane : 75 %\n",
            "Accuracy of   car : 93 %\n",
            "Accuracy of  bird : 72 %\n",
            "Accuracy of   cat : 48 %\n",
            "Accuracy of  deer : 77 %\n",
            "Accuracy of   dog : 90 %\n",
            "Accuracy of  frog : 87 %\n",
            "Accuracy of horse : 80 %\n",
            "Accuracy of  ship : 93 %\n",
            "Accuracy of truck : 82 %\n"
          ],
          "name": "stdout"
        }
      ]
    },
    {
      "cell_type": "code",
      "metadata": {
        "id": "TwL-UfoZf1hl",
        "outputId": "6213a3ba-7632-43ed-fb47-1b3c1da7c4bc",
        "colab": {
          "base_uri": "https://localhost:8080/",
          "height": 34
        }
      },
      "source": [
        "print(\"Current Date/Time: \", datetime.now())\n"
      ],
      "execution_count": 10,
      "outputs": [
        {
          "output_type": "stream",
          "text": [
            "Current Date/Time:  2020-09-26 22:24:31.611333\n"
          ],
          "name": "stdout"
        }
      ]
    }
  ]
}